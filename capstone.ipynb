{
  "nbformat": 4,
  "nbformat_minor": 0,
  "metadata": {
    "accelerator": "GPU",
    "colab": {
      "name": "Capstone.ipynb",
      "provenance": [],
      "collapsed_sections": [
        "NNdghp0rfvQd",
        "OG_UWsozhs3i"
      ]
    },
    "kernelspec": {
      "name": "python3",
      "display_name": "Python 3"
    },
    "language_info": {
      "codemirror_mode": {
        "name": "ipython",
        "version": 3
      },
      "file_extension": ".py",
      "mimetype": "text/x-python",
      "name": "python",
      "nbconvert_exporter": "python",
      "pygments_lexer": "ipython3",
      "version": "3.7.3"
    }
  },
  "cells": [
    {
      "cell_type": "markdown",
      "metadata": {
        "colab_type": "text",
        "id": "3N1FZLzbfzVU"
      },
      "source": [
        "#### Tutorial Joint Final Project: Deep Learning and Quantum Information Theory\n",
        "\n",
        "### Quantum Code Generation using Conditional RNNs\n",
        "_Yoav Rabinovich, December 2019_\n",
        "\n",
        "--------------------------"
      ]
    },
    {
      "cell_type": "markdown",
      "metadata": {
        "colab_type": "text",
        "id": "NNdghp0rfvQd"
      },
      "source": [
        "#### Installs and imports"
      ]
    },
    {
      "cell_type": "code",
      "metadata": {
        "colab_type": "code",
        "collapsed": true,
        "id": "xOZaX7qNKHD8",
        "outputId": "8a7dfdb0-94b9-4da8-8020-c1f9dbfa3287",
        "colab": {
          "base_uri": "https://localhost:8080/",
          "height": 0
        }
      },
      "source": [
        "!pip install qiskit\n",
        "!pip install tensorflow-gpu --upgrade\n",
        "!pip install -Iv cond-rnn==1.4"
      ],
      "execution_count": 1,
      "outputs": [
        {
          "output_type": "stream",
          "text": [
            "Collecting qiskit\n",
            "  Downloading https://files.pythonhosted.org/packages/31/03/9a823e07f7b15ff8f474f09e30b756eb861ed0251f77d225ebef3aa13094/qiskit-0.16.2.tar.gz\n",
            "Collecting qiskit-terra==0.12.0\n",
            "\u001b[?25l  Downloading https://files.pythonhosted.org/packages/30/6e/3aada46aa05013279b918002a6123d9cf5d4014d65cef90f7f5306969ccc/qiskit_terra-0.12.0-cp36-cp36m-manylinux2010_x86_64.whl (2.9MB)\n",
            "\u001b[K     |████████████████████████████████| 2.9MB 4.6MB/s \n",
            "\u001b[?25hCollecting qiskit-aer==0.4.1\n",
            "\u001b[?25l  Downloading https://files.pythonhosted.org/packages/8e/02/0869865f03d799d135a550426f4f22d344b2eb6f555b42ff028ec16c8ebd/qiskit_aer-0.4.1-cp36-cp36m-manylinux2010_x86_64.whl (23.0MB)\n",
            "\u001b[K     |████████████████████████████████| 23.0MB 131kB/s \n",
            "\u001b[?25hCollecting qiskit-ibmq-provider==0.5.0\n",
            "\u001b[?25l  Downloading https://files.pythonhosted.org/packages/18/4f/49911087def9ba45406f18d10cc64e4ee73d8921e8d3fa2e5bf2abee3b71/qiskit_ibmq_provider-0.5.0-py3-none-any.whl (140kB)\n",
            "\u001b[K     |████████████████████████████████| 143kB 71.0MB/s \n",
            "\u001b[?25hCollecting qiskit-ignis==0.2.0\n",
            "\u001b[?25l  Downloading https://files.pythonhosted.org/packages/78/f2/f4f89c65d2c13f473092f7e800519836611ddeeaab8d4591a70555b26a37/qiskit_ignis-0.2.0-py3-none-any.whl (100kB)\n",
            "\u001b[K     |████████████████████████████████| 102kB 16.1MB/s \n",
            "\u001b[?25hCollecting qiskit-aqua==0.6.5\n",
            "\u001b[?25l  Downloading https://files.pythonhosted.org/packages/25/2d/ef2b2672c544a85a799dccc0de3c8dab88bee1b92cc84c302e01808eecfb/qiskit_aqua-0.6.5-py3-none-any.whl (1.8MB)\n",
            "\u001b[K     |████████████████████████████████| 1.8MB 63.9MB/s \n",
            "\u001b[?25hRequirement already satisfied: jsonschema>=2.6 in /usr/local/lib/python3.6/dist-packages (from qiskit-terra==0.12.0->qiskit) (2.6.0)\n",
            "Requirement already satisfied: psutil>=5 in /usr/local/lib/python3.6/dist-packages (from qiskit-terra==0.12.0->qiskit) (5.4.8)\n",
            "Requirement already satisfied: dill>=0.3 in /usr/local/lib/python3.6/dist-packages (from qiskit-terra==0.12.0->qiskit) (0.3.1.1)\n",
            "Collecting ply>=3.10\n",
            "\u001b[?25l  Downloading https://files.pythonhosted.org/packages/a3/58/35da89ee790598a0700ea49b2a66594140f44dec458c07e8e3d4979137fc/ply-3.11-py2.py3-none-any.whl (49kB)\n",
            "\u001b[K     |████████████████████████████████| 51kB 7.8MB/s \n",
            "\u001b[?25hCollecting marshmallow-polyfield<6,>=5.7\n",
            "  Downloading https://files.pythonhosted.org/packages/0c/7e/ceb805d05cd03709b8de122b4ac1e736c4eb91d05281ad2a2bcb484accef/marshmallow-polyfield-5.9.tar.gz\n",
            "Requirement already satisfied: scipy>=1.0 in /usr/local/lib/python3.6/dist-packages (from qiskit-terra==0.12.0->qiskit) (1.4.1)\n",
            "Requirement already satisfied: networkx>=2.2; python_version > \"3.5\" in /usr/local/lib/python3.6/dist-packages (from qiskit-terra==0.12.0->qiskit) (2.4)\n",
            "Collecting sympy>=1.3\n",
            "\u001b[?25l  Downloading https://files.pythonhosted.org/packages/ce/5b/acc12e3c0d0be685601fc2b2d20ed18dc0bf461380e763afc9d0a548deb0/sympy-1.5.1-py2.py3-none-any.whl (5.6MB)\n",
            "\u001b[K     |████████████████████████████████| 5.6MB 41.0MB/s \n",
            "\u001b[?25hRequirement already satisfied: numpy>=1.13 in /usr/local/lib/python3.6/dist-packages (from qiskit-terra==0.12.0->qiskit) (1.18.2)\n",
            "Collecting marshmallow<4,>=3\n",
            "\u001b[?25l  Downloading https://files.pythonhosted.org/packages/d8/0b/bb43d7610e71d87e8537025841c248471dbf938c676d32b8f94c82148c04/marshmallow-3.5.1-py2.py3-none-any.whl (45kB)\n",
            "\u001b[K     |████████████████████████████████| 51kB 9.7MB/s \n",
            "\u001b[?25hCollecting pybind11>=2.4\n",
            "\u001b[?25l  Downloading https://files.pythonhosted.org/packages/4b/4d/ae1c4d8e8b139afa9682054dd42df3b0e3b5c1731287933021b9fd7e9cc4/pybind11-2.4.3-py2.py3-none-any.whl (150kB)\n",
            "\u001b[K     |████████████████████████████████| 153kB 68.2MB/s \n",
            "\u001b[?25hRequirement already satisfied: cython>=0.27.1 in /usr/local/lib/python3.6/dist-packages (from qiskit-aer==0.4.1->qiskit) (0.29.15)\n",
            "Collecting nest-asyncio!=1.1.0,>=1.0.0\n",
            "  Downloading https://files.pythonhosted.org/packages/80/c2/45c9fc4512608b0da793cb43765aca5f609715c28e5c63a1209dde3be80f/nest_asyncio-1.3.0-py3-none-any.whl\n",
            "Collecting requests-ntlm>=1.1.0\n",
            "  Downloading https://files.pythonhosted.org/packages/03/4b/8b9a1afde8072c4d5710d9fa91433d504325821b038e00237dc8d6d833dc/requests_ntlm-1.1.0-py2.py3-none-any.whl\n",
            "Collecting arrow>=0.15.5\n",
            "\u001b[?25l  Downloading https://files.pythonhosted.org/packages/92/fa/f84896dede5decf284e6922134bf03fd26c90870bbf8015f4e8ee2a07bcc/arrow-0.15.5-py2.py3-none-any.whl (46kB)\n",
            "\u001b[K     |████████████████████████████████| 51kB 9.5MB/s \n",
            "\u001b[?25hRequirement already satisfied: requests>=2.19 in /usr/local/lib/python3.6/dist-packages (from qiskit-ibmq-provider==0.5.0->qiskit) (2.21.0)\n",
            "Collecting websockets<8,>=7\n",
            "\u001b[?25l  Downloading https://files.pythonhosted.org/packages/43/71/8bfa882b9c502c36e5c9ef6732969533670d2b039cbf95a82ced8f762b80/websockets-7.0-cp36-cp36m-manylinux1_x86_64.whl (63kB)\n",
            "\u001b[K     |████████████████████████████████| 71kB 13.0MB/s \n",
            "\u001b[?25hRequirement already satisfied: setuptools>=40.1.0 in /usr/local/lib/python3.6/dist-packages (from qiskit-ignis==0.2.0->qiskit) (46.0.0)\n",
            "Collecting quandl\n",
            "  Downloading https://files.pythonhosted.org/packages/07/ab/8cd479fba8a9b197a43a0d55dd534b066fb8e5a0a04b5c0384cbc5d663aa/Quandl-3.5.0-py2.py3-none-any.whl\n",
            "Collecting pyscf; sys_platform == \"linux\" or (python_version < \"3.8\" and sys_platform != \"win32\")\n",
            "\u001b[?25l  Downloading https://files.pythonhosted.org/packages/7a/ea/8ebe88368935dcc9a1a309764846e0bf5d04352d44067741aab3626ceb7f/pyscf-1.7.1-cp36-cp36m-manylinux1_x86_64.whl (24.3MB)\n",
            "\u001b[K     |████████████████████████████████| 24.3MB 100kB/s \n",
            "\u001b[?25hRequirement already satisfied: h5py in /usr/local/lib/python3.6/dist-packages (from qiskit-aqua==0.6.5->qiskit) (2.10.0)\n",
            "Requirement already satisfied: scikit-learn>=0.20.0 in /usr/local/lib/python3.6/dist-packages (from qiskit-aqua==0.6.5->qiskit) (0.22.2.post1)\n",
            "Collecting dlx\n",
            "  Downloading https://files.pythonhosted.org/packages/54/c0/b8fb5bb727e983b6f5251433ef941b48f38c65bb0bd6ec509e9185bcd406/dlx-1.0.4.tar.gz\n",
            "Requirement already satisfied: fastdtw in /usr/local/lib/python3.6/dist-packages (from qiskit-aqua==0.6.5->qiskit) (0.3.4)\n",
            "Collecting docplex\n",
            "\u001b[?25l  Downloading https://files.pythonhosted.org/packages/03/a8/5dc675dbe179a2bd4d1d40522f009b4517ad32890d55ae49449709128d0a/docplex-2.13.184.tar.gz (571kB)\n",
            "\u001b[K     |████████████████████████████████| 573kB 54.0MB/s \n",
            "\u001b[?25hRequirement already satisfied: decorator>=4.3.0 in /usr/local/lib/python3.6/dist-packages (from networkx>=2.2; python_version > \"3.5\"->qiskit-terra==0.12.0->qiskit) (4.4.2)\n",
            "Requirement already satisfied: mpmath>=0.19 in /usr/local/lib/python3.6/dist-packages (from sympy>=1.3->qiskit-terra==0.12.0->qiskit) (1.1.0)\n",
            "Collecting ntlm-auth>=1.0.2\n",
            "  Downloading https://files.pythonhosted.org/packages/50/09/5e397eb18685b14fd8b209e26cdb4fa6451c82c1bcc651fef05fa73e7b27/ntlm_auth-1.4.0-py2.py3-none-any.whl\n",
            "Collecting cryptography>=1.3\n",
            "\u001b[?25l  Downloading https://files.pythonhosted.org/packages/ca/9a/7cece52c46546e214e10811b36b2da52ce1ea7fa203203a629b8dfadad53/cryptography-2.8-cp34-abi3-manylinux2010_x86_64.whl (2.3MB)\n",
            "\u001b[K     |████████████████████████████████| 2.3MB 69.0MB/s \n",
            "\u001b[?25hRequirement already satisfied: python-dateutil in /usr/local/lib/python3.6/dist-packages (from arrow>=0.15.5->qiskit-ibmq-provider==0.5.0->qiskit) (2.8.1)\n",
            "Requirement already satisfied: idna<2.9,>=2.5 in /usr/local/lib/python3.6/dist-packages (from requests>=2.19->qiskit-ibmq-provider==0.5.0->qiskit) (2.8)\n",
            "Requirement already satisfied: chardet<3.1.0,>=3.0.2 in /usr/local/lib/python3.6/dist-packages (from requests>=2.19->qiskit-ibmq-provider==0.5.0->qiskit) (3.0.4)\n",
            "Requirement already satisfied: urllib3<1.25,>=1.21.1 in /usr/local/lib/python3.6/dist-packages (from requests>=2.19->qiskit-ibmq-provider==0.5.0->qiskit) (1.24.3)\n",
            "Requirement already satisfied: certifi>=2017.4.17 in /usr/local/lib/python3.6/dist-packages (from requests>=2.19->qiskit-ibmq-provider==0.5.0->qiskit) (2019.11.28)\n",
            "Requirement already satisfied: six in /usr/local/lib/python3.6/dist-packages (from quandl->qiskit-aqua==0.6.5->qiskit) (1.12.0)\n",
            "Requirement already satisfied: more-itertools in /usr/local/lib/python3.6/dist-packages (from quandl->qiskit-aqua==0.6.5->qiskit) (8.2.0)\n",
            "Collecting inflection>=0.3.1\n",
            "  Downloading https://files.pythonhosted.org/packages/d5/35/a6eb45b4e2356fe688b21570864d4aa0d0a880ce387defe9c589112077f8/inflection-0.3.1.tar.gz\n",
            "Requirement already satisfied: pandas>=0.14 in /usr/local/lib/python3.6/dist-packages (from quandl->qiskit-aqua==0.6.5->qiskit) (0.25.3)\n",
            "Requirement already satisfied: joblib>=0.11 in /usr/local/lib/python3.6/dist-packages (from scikit-learn>=0.20.0->qiskit-aqua==0.6.5->qiskit) (0.14.1)\n",
            "Requirement already satisfied: cffi!=1.11.3,>=1.8 in /usr/local/lib/python3.6/dist-packages (from cryptography>=1.3->requests-ntlm>=1.1.0->qiskit-ibmq-provider==0.5.0->qiskit) (1.14.0)\n",
            "Requirement already satisfied: pytz>=2017.2 in /usr/local/lib/python3.6/dist-packages (from pandas>=0.14->quandl->qiskit-aqua==0.6.5->qiskit) (2018.9)\n",
            "Requirement already satisfied: pycparser in /usr/local/lib/python3.6/dist-packages (from cffi!=1.11.3,>=1.8->cryptography>=1.3->requests-ntlm>=1.1.0->qiskit-ibmq-provider==0.5.0->qiskit) (2.20)\n",
            "Building wheels for collected packages: qiskit, marshmallow-polyfield, dlx, docplex, inflection\n",
            "  Building wheel for qiskit (setup.py) ... \u001b[?25l\u001b[?25hdone\n",
            "  Created wheel for qiskit: filename=qiskit-0.16.2-cp36-none-any.whl size=2898 sha256=865d203d519eb78bc0f123995bcb8d77e947a52f2fbf8174fc2b9f5fc4dcdcfa\n",
            "  Stored in directory: /root/.cache/pip/wheels/8d/eb/5a/ce0d4fa7714b1b698c55bfbe41179f3993ac6a67f992cbf82e\n",
            "  Building wheel for marshmallow-polyfield (setup.py) ... \u001b[?25l\u001b[?25hdone\n",
            "  Created wheel for marshmallow-polyfield: filename=marshmallow_polyfield-5.9-cp36-none-any.whl size=8537 sha256=53c6ca5fe304ea23c57ac9b213cdfde46567171b925db38a35bc5bdd701f1f1c\n",
            "  Stored in directory: /root/.cache/pip/wheels/69/27/3e/7472f75eab2db111aa387715fe009af15899459517fc1a1906\n",
            "  Building wheel for dlx (setup.py) ... \u001b[?25l\u001b[?25hdone\n",
            "  Created wheel for dlx: filename=dlx-1.0.4-cp36-none-any.whl size=5712 sha256=fb662257693808f8dba5a24f3a2ec6ee31632e620b7ce4a481d3b7c659401a77\n",
            "  Stored in directory: /root/.cache/pip/wheels/bb/ba/15/fdd0deb104df3254912998150ba9245668db06b00af5912d1a\n",
            "  Building wheel for docplex (setup.py) ... \u001b[?25l\u001b[?25hdone\n",
            "  Created wheel for docplex: filename=docplex-2.13.184-cp36-none-any.whl size=633100 sha256=210731393ae21e95eb6b87f344939637b90cc3c20bd3c7acab01e35e16de95c0\n",
            "  Stored in directory: /root/.cache/pip/wheels/35/67/46/e9d3c1cb652addc314816a29396c1c427c2735e8f6c656aab3\n",
            "  Building wheel for inflection (setup.py) ... \u001b[?25l\u001b[?25hdone\n",
            "  Created wheel for inflection: filename=inflection-0.3.1-cp36-none-any.whl size=6077 sha256=99f3f5a360f9a89424780daf0eb25a4491661981fba879b748511fa13f002d36\n",
            "  Stored in directory: /root/.cache/pip/wheels/9f/5a/d3/6fc3bf6516d2a3eb7e18f9f28b472110b59325f3f258fe9211\n",
            "Successfully built qiskit marshmallow-polyfield dlx docplex inflection\n",
            "Installing collected packages: ply, marshmallow, marshmallow-polyfield, sympy, qiskit-terra, pybind11, qiskit-aer, nest-asyncio, ntlm-auth, cryptography, requests-ntlm, arrow, websockets, qiskit-ibmq-provider, qiskit-ignis, inflection, quandl, pyscf, dlx, docplex, qiskit-aqua, qiskit\n",
            "  Found existing installation: sympy 1.1.1\n",
            "    Uninstalling sympy-1.1.1:\n",
            "      Successfully uninstalled sympy-1.1.1\n",
            "Successfully installed arrow-0.15.5 cryptography-2.8 dlx-1.0.4 docplex-2.13.184 inflection-0.3.1 marshmallow-3.5.1 marshmallow-polyfield-5.9 nest-asyncio-1.3.0 ntlm-auth-1.4.0 ply-3.11 pybind11-2.4.3 pyscf-1.7.1 qiskit-0.16.2 qiskit-aer-0.4.1 qiskit-aqua-0.6.5 qiskit-ibmq-provider-0.5.0 qiskit-ignis-0.2.0 qiskit-terra-0.12.0 quandl-3.5.0 requests-ntlm-1.1.0 sympy-1.5.1 websockets-7.0\n",
            "Collecting tensorflow-gpu\n",
            "\u001b[?25l  Downloading https://files.pythonhosted.org/packages/0a/93/c7bca39b23aae45cd2e85ad3871c81eccc63b9c5276e926511e2e5b0879d/tensorflow_gpu-2.1.0-cp36-cp36m-manylinux2010_x86_64.whl (421.8MB)\n",
            "\u001b[K     |████████████████████████████████| 421.8MB 41kB/s \n",
            "\u001b[?25hRequirement already satisfied, skipping upgrade: numpy<2.0,>=1.16.0 in /usr/local/lib/python3.6/dist-packages (from tensorflow-gpu) (1.18.2)\n",
            "Requirement already satisfied, skipping upgrade: protobuf>=3.8.0 in /usr/local/lib/python3.6/dist-packages (from tensorflow-gpu) (3.10.0)\n",
            "Requirement already satisfied, skipping upgrade: six>=1.12.0 in /usr/local/lib/python3.6/dist-packages (from tensorflow-gpu) (1.12.0)\n",
            "Requirement already satisfied, skipping upgrade: scipy==1.4.1; python_version >= \"3\" in /usr/local/lib/python3.6/dist-packages (from tensorflow-gpu) (1.4.1)\n",
            "Collecting tensorflow-estimator<2.2.0,>=2.1.0rc0\n",
            "\u001b[?25l  Downloading https://files.pythonhosted.org/packages/18/90/b77c328a1304437ab1310b463e533fa7689f4bfc41549593056d812fab8e/tensorflow_estimator-2.1.0-py2.py3-none-any.whl (448kB)\n",
            "\u001b[K     |████████████████████████████████| 450kB 53.2MB/s \n",
            "\u001b[?25hRequirement already satisfied, skipping upgrade: keras-applications>=1.0.8 in /usr/local/lib/python3.6/dist-packages (from tensorflow-gpu) (1.0.8)\n",
            "Requirement already satisfied, skipping upgrade: keras-preprocessing>=1.1.0 in /usr/local/lib/python3.6/dist-packages (from tensorflow-gpu) (1.1.0)\n",
            "Requirement already satisfied, skipping upgrade: absl-py>=0.7.0 in /usr/local/lib/python3.6/dist-packages (from tensorflow-gpu) (0.9.0)\n",
            "Requirement already satisfied, skipping upgrade: astor>=0.6.0 in /usr/local/lib/python3.6/dist-packages (from tensorflow-gpu) (0.8.1)\n",
            "Requirement already satisfied, skipping upgrade: google-pasta>=0.1.6 in /usr/local/lib/python3.6/dist-packages (from tensorflow-gpu) (0.2.0)\n",
            "Requirement already satisfied, skipping upgrade: opt-einsum>=2.3.2 in /usr/local/lib/python3.6/dist-packages (from tensorflow-gpu) (3.2.0)\n",
            "Collecting gast==0.2.2\n",
            "  Downloading https://files.pythonhosted.org/packages/4e/35/11749bf99b2d4e3cceb4d55ca22590b0d7c2c62b9de38ac4a4a7f4687421/gast-0.2.2.tar.gz\n",
            "Requirement already satisfied, skipping upgrade: grpcio>=1.8.6 in /usr/local/lib/python3.6/dist-packages (from tensorflow-gpu) (1.27.2)\n",
            "Requirement already satisfied, skipping upgrade: wheel>=0.26; python_version >= \"3\" in /usr/local/lib/python3.6/dist-packages (from tensorflow-gpu) (0.34.2)\n",
            "Requirement already satisfied, skipping upgrade: termcolor>=1.1.0 in /usr/local/lib/python3.6/dist-packages (from tensorflow-gpu) (1.1.0)\n",
            "Collecting tensorboard<2.2.0,>=2.1.0\n",
            "\u001b[?25l  Downloading https://files.pythonhosted.org/packages/d9/41/bbf49b61370e4f4d245d4c6051dfb6db80cec672605c91b1652ac8cc3d38/tensorboard-2.1.1-py3-none-any.whl (3.8MB)\n",
            "\u001b[K     |████████████████████████████████| 3.9MB 59.2MB/s \n",
            "\u001b[?25hRequirement already satisfied, skipping upgrade: wrapt>=1.11.1 in /usr/local/lib/python3.6/dist-packages (from tensorflow-gpu) (1.12.1)\n",
            "Requirement already satisfied, skipping upgrade: setuptools in /usr/local/lib/python3.6/dist-packages (from protobuf>=3.8.0->tensorflow-gpu) (46.0.0)\n",
            "Requirement already satisfied, skipping upgrade: h5py in /usr/local/lib/python3.6/dist-packages (from keras-applications>=1.0.8->tensorflow-gpu) (2.10.0)\n",
            "Requirement already satisfied, skipping upgrade: markdown>=2.6.8 in /usr/local/lib/python3.6/dist-packages (from tensorboard<2.2.0,>=2.1.0->tensorflow-gpu) (3.2.1)\n",
            "Requirement already satisfied, skipping upgrade: requests<3,>=2.21.0 in /usr/local/lib/python3.6/dist-packages (from tensorboard<2.2.0,>=2.1.0->tensorflow-gpu) (2.21.0)\n",
            "Requirement already satisfied, skipping upgrade: google-auth-oauthlib<0.5,>=0.4.1 in /usr/local/lib/python3.6/dist-packages (from tensorboard<2.2.0,>=2.1.0->tensorflow-gpu) (0.4.1)\n",
            "Requirement already satisfied, skipping upgrade: werkzeug>=0.11.15 in /usr/local/lib/python3.6/dist-packages (from tensorboard<2.2.0,>=2.1.0->tensorflow-gpu) (1.0.0)\n",
            "Requirement already satisfied, skipping upgrade: google-auth<2,>=1.6.3 in /usr/local/lib/python3.6/dist-packages (from tensorboard<2.2.0,>=2.1.0->tensorflow-gpu) (1.7.2)\n",
            "Requirement already satisfied, skipping upgrade: urllib3<1.25,>=1.21.1 in /usr/local/lib/python3.6/dist-packages (from requests<3,>=2.21.0->tensorboard<2.2.0,>=2.1.0->tensorflow-gpu) (1.24.3)\n",
            "Requirement already satisfied, skipping upgrade: certifi>=2017.4.17 in /usr/local/lib/python3.6/dist-packages (from requests<3,>=2.21.0->tensorboard<2.2.0,>=2.1.0->tensorflow-gpu) (2019.11.28)\n",
            "Requirement already satisfied, skipping upgrade: chardet<3.1.0,>=3.0.2 in /usr/local/lib/python3.6/dist-packages (from requests<3,>=2.21.0->tensorboard<2.2.0,>=2.1.0->tensorflow-gpu) (3.0.4)\n",
            "Requirement already satisfied, skipping upgrade: idna<2.9,>=2.5 in /usr/local/lib/python3.6/dist-packages (from requests<3,>=2.21.0->tensorboard<2.2.0,>=2.1.0->tensorflow-gpu) (2.8)\n",
            "Requirement already satisfied, skipping upgrade: requests-oauthlib>=0.7.0 in /usr/local/lib/python3.6/dist-packages (from google-auth-oauthlib<0.5,>=0.4.1->tensorboard<2.2.0,>=2.1.0->tensorflow-gpu) (1.3.0)\n",
            "Requirement already satisfied, skipping upgrade: cachetools<3.2,>=2.0.0 in /usr/local/lib/python3.6/dist-packages (from google-auth<2,>=1.6.3->tensorboard<2.2.0,>=2.1.0->tensorflow-gpu) (3.1.1)\n",
            "Requirement already satisfied, skipping upgrade: pyasn1-modules>=0.2.1 in /usr/local/lib/python3.6/dist-packages (from google-auth<2,>=1.6.3->tensorboard<2.2.0,>=2.1.0->tensorflow-gpu) (0.2.8)\n",
            "Requirement already satisfied, skipping upgrade: rsa<4.1,>=3.1.4 in /usr/local/lib/python3.6/dist-packages (from google-auth<2,>=1.6.3->tensorboard<2.2.0,>=2.1.0->tensorflow-gpu) (4.0)\n",
            "Requirement already satisfied, skipping upgrade: oauthlib>=3.0.0 in /usr/local/lib/python3.6/dist-packages (from requests-oauthlib>=0.7.0->google-auth-oauthlib<0.5,>=0.4.1->tensorboard<2.2.0,>=2.1.0->tensorflow-gpu) (3.1.0)\n",
            "Requirement already satisfied, skipping upgrade: pyasn1<0.5.0,>=0.4.6 in /usr/local/lib/python3.6/dist-packages (from pyasn1-modules>=0.2.1->google-auth<2,>=1.6.3->tensorboard<2.2.0,>=2.1.0->tensorflow-gpu) (0.4.8)\n",
            "Building wheels for collected packages: gast\n",
            "  Building wheel for gast (setup.py) ... \u001b[?25l\u001b[?25hdone\n",
            "  Created wheel for gast: filename=gast-0.2.2-cp36-none-any.whl size=7540 sha256=6dc5e3035f32f8eabb4e820e10ce17fdbb2a5c7e9b0740f0f719377955ed85d6\n",
            "  Stored in directory: /root/.cache/pip/wheels/5c/2e/7e/a1d4d4fcebe6c381f378ce7743a3ced3699feb89bcfbdadadd\n",
            "Successfully built gast\n",
            "\u001b[31mERROR: tensorflow 1.15.2 has requirement tensorboard<1.16.0,>=1.15.0, but you'll have tensorboard 2.1.1 which is incompatible.\u001b[0m\n",
            "\u001b[31mERROR: tensorflow 1.15.2 has requirement tensorflow-estimator==1.15.1, but you'll have tensorflow-estimator 2.1.0 which is incompatible.\u001b[0m\n",
            "Installing collected packages: tensorflow-estimator, gast, tensorboard, tensorflow-gpu\n",
            "  Found existing installation: tensorflow-estimator 1.15.1\n",
            "    Uninstalling tensorflow-estimator-1.15.1:\n",
            "      Successfully uninstalled tensorflow-estimator-1.15.1\n",
            "  Found existing installation: gast 0.3.3\n",
            "    Uninstalling gast-0.3.3:\n",
            "      Successfully uninstalled gast-0.3.3\n",
            "  Found existing installation: tensorboard 1.15.0\n",
            "    Uninstalling tensorboard-1.15.0:\n",
            "      Successfully uninstalled tensorboard-1.15.0\n",
            "Successfully installed gast-0.2.2 tensorboard-2.1.1 tensorflow-estimator-2.2.0rc0 tensorflow-gpu-2.1.0\n",
            "Created temporary directory: /tmp/pip-ephem-wheel-cache-ns4qmhnt\n",
            "Created temporary directory: /tmp/pip-req-tracker-7ye1h7dw\n",
            "Created requirements tracker '/tmp/pip-req-tracker-7ye1h7dw'\n",
            "Created temporary directory: /tmp/pip-install-qazjhfn6\n",
            "1 location(s) to search for versions of cond-rnn:\n",
            "* https://pypi.org/simple/cond-rnn/\n",
            "Getting page https://pypi.org/simple/cond-rnn/\n",
            "Found index url https://pypi.org/simple\n",
            "Looking up \"https://pypi.org/simple/cond-rnn/\" in the cache\n",
            "Request header has \"max_age\" as 0, cache bypassed\n",
            "Starting new HTTPS connection (1): pypi.org:443\n",
            "https://pypi.org:443 \"GET /simple/cond-rnn/ HTTP/1.1\" 200 1660\n",
            "Updating cache with response from \"https://pypi.org/simple/cond-rnn/\"\n",
            "Caching due to etag\n",
            "Analyzing links from page https://pypi.org/simple/cond-rnn/\n",
            "  Found link https://files.pythonhosted.org/packages/20/04/5f80ab3a8fed28adec7a6785bee891c0f5dc0e4e2d73e82927fd33478a85/cond-rnn-1.0.tar.gz#sha256=dc375efa1bc5153a41aa153500a58eb1440efe5d8d08a626fff037676686723e (from https://pypi.org/simple/cond-rnn/), version: 1.0\n",
            "  Found link https://files.pythonhosted.org/packages/47/75/4ac6ae1a8f8c7a84555026b2d3a38425df4ebecfef1bb86a1ec3a29f7a7d/cond_rnn-1.0-py2.py3-none-any.whl#sha256=64bdaa4bce2756444cea8767fd6ce87cad131d1c96ae81d2c7c85510afd3ebde (from https://pypi.org/simple/cond-rnn/), version: 1.0\n",
            "  Found link https://files.pythonhosted.org/packages/b5/e2/2ae1c8b935e68c3edbffc8f1011db8f0fdc4b4973932d8c5425d52e7c9d5/cond-rnn-1.1.tar.gz#sha256=aaa6a5a7cf95c300439bd493598c3299c47afb4dcaff1504803ece8e9de6d263 (from https://pypi.org/simple/cond-rnn/), version: 1.1\n",
            "  Found link https://files.pythonhosted.org/packages/2c/62/2abb33ece73652c7aeadd772e48f61624053d583b0bdaab89fa04e84d301/cond_rnn-1.1-py2.py3-none-any.whl#sha256=9992b6ac2f1c2c97d9edc38ea5947063338be858b3820083562dd34c0ff2e81b (from https://pypi.org/simple/cond-rnn/), version: 1.1\n",
            "  Found link https://files.pythonhosted.org/packages/84/63/4d9fff0d1412863ebd5b95d02342eeb5194a3f753191e3856cd08dded761/cond-rnn-1.2.tar.gz#sha256=fcbd228b05538eb6f4639acfd2af3089c40d2f95796d676db5386e9b47877028 (from https://pypi.org/simple/cond-rnn/), version: 1.2\n",
            "  Found link https://files.pythonhosted.org/packages/d1/fe/ba919c2b4d690beae5b14fe1086c5ef2683792344f0ba2fd6c1671d118d6/cond_rnn-1.2-py2.py3-none-any.whl#sha256=1ee822fb57f81f58f0186fbf032b6547e76c40e5b54cada7ab7f0594035aa7d2 (from https://pypi.org/simple/cond-rnn/), version: 1.2\n",
            "  Found link https://files.pythonhosted.org/packages/e6/c6/5c28a456a34a83381019b2f2a82f3265ce9f03d500e965d21b37a6859ffc/cond-rnn-1.3.tar.gz#sha256=19a83039fda4e92c7f8266b6ebb369f1cd727ceaa9178a57bd17e2806d486692 (from https://pypi.org/simple/cond-rnn/), version: 1.3\n",
            "  Found link https://files.pythonhosted.org/packages/6d/d0/9cbaea1214ce4e7dafc29af8960f7b2586676d6c6e4e6ac26c8154fc3910/cond_rnn-1.3-py2.py3-none-any.whl#sha256=e42c05e886be199105a1ad193501a532b68e532fb1412c99885c4ea065046806 (from https://pypi.org/simple/cond-rnn/), version: 1.3\n",
            "  Found link https://files.pythonhosted.org/packages/c8/f5/1f85b64adf7a549b180cc1df6af75018efe09db378b70ff19d69ebccbb7f/cond-rnn-1.4.tar.gz#sha256=cfcdc43d8284147ecd482307e78dc8f82784b7e5f89175e3bab7831fddb715fe (from https://pypi.org/simple/cond-rnn/), version: 1.4\n",
            "  Found link https://files.pythonhosted.org/packages/0f/f3/6dc58eca3e5d454e39c22d23dcb192a901a98107d111a75996a7735aff16/cond_rnn-1.4-py2.py3-none-any.whl#sha256=79a32e9f731392d93b5d9d7553768085edee802c5f36c5d6a23f5de31bb57f5b (from https://pypi.org/simple/cond-rnn/), version: 1.4\n",
            "  Found link https://files.pythonhosted.org/packages/9c/60/b49413a70274e015b896a4acfe176d89e7b67e511f2aeb7a3bdc38d7127a/cond-rnn-2.0.tar.gz#sha256=5f2c9e421da18b1d4be8f6eca41bce7a2e64c50a01f36eeddc45a92487060d92 (from https://pypi.org/simple/cond-rnn/), version: 2.0\n",
            "  Found link https://files.pythonhosted.org/packages/ea/76/c6c76fe5fb4185e737a78ae89d751ffa981302840d21e0aa38688405c151/cond_rnn-2.0-py3-none-any.whl#sha256=124d63a6069d1a28e987ee19e5215b42bef8f5140692ceffafd3b5699689c236 (from https://pypi.org/simple/cond-rnn/), version: 2.0\n",
            "  Found link https://files.pythonhosted.org/packages/e9/27/b2350cd68c55ffeaa3261309dace7c1367514c625b711c4d86526ed0721e/cond-rnn-2.1.tar.gz#sha256=8ae2a3ec6418c7aed862cbb4adcbce577652a263e7616752b19e21f567748726 (from https://pypi.org/simple/cond-rnn/), version: 2.1\n",
            "  Found link https://files.pythonhosted.org/packages/8c/cc/f45c8d38be4441fae77242a9c235565c0ae47ec92818e067398dbba6aed7/cond_rnn-2.1-py3-none-any.whl#sha256=a2ea4461dbec26b74a4f31834c48c397e85998da0a2c72882265c5a00f3a86a8 (from https://pypi.org/simple/cond-rnn/), version: 2.1\n",
            "  Found link https://files.pythonhosted.org/packages/c9/4d/612ede438dc7e69739041b4b8ed7891246fffeb00af14b72b86233fc31c2/cond-rnn-2.2.tar.gz#sha256=b51f917a411799edc00d806d7376f03f6e93f68cbe2e7897e6c6cb45328faf14 (from https://pypi.org/simple/cond-rnn/), version: 2.2\n",
            "  Found link https://files.pythonhosted.org/packages/12/87/9eddec8dee10d2781c56d9433d9b37a47d5dd7f9fd54ab4675f5bed1124a/cond_rnn-2.2-py3-none-any.whl#sha256=a2184c218f14304102fdcae59aa85eeee22010d5f1882416a3ea9081214498d3 (from https://pypi.org/simple/cond-rnn/), version: 2.2\n",
            "Given no hashes to check 2 links for project 'cond-rnn': discarding no candidates\n",
            "Using version 1.4 (newest of versions: 1.4)\n",
            "Collecting cond-rnn==1.4\n",
            "  Created temporary directory: /tmp/pip-unpack-ojz6iwoe\n",
            "  Looking up \"https://files.pythonhosted.org/packages/0f/f3/6dc58eca3e5d454e39c22d23dcb192a901a98107d111a75996a7735aff16/cond_rnn-1.4-py2.py3-none-any.whl\" in the cache\n",
            "  No cache entry available\n",
            "  Starting new HTTPS connection (1): files.pythonhosted.org:443\n",
            "  https://files.pythonhosted.org:443 \"GET /packages/0f/f3/6dc58eca3e5d454e39c22d23dcb192a901a98107d111a75996a7735aff16/cond_rnn-1.4-py2.py3-none-any.whl HTTP/1.1\" 200 5948\n",
            "  Downloading https://files.pythonhosted.org/packages/0f/f3/6dc58eca3e5d454e39c22d23dcb192a901a98107d111a75996a7735aff16/cond_rnn-1.4-py2.py3-none-any.whl\n",
            "  Ignoring unknown cache-control directive: immutable\n",
            "  Updating cache with response from \"https://files.pythonhosted.org/packages/0f/f3/6dc58eca3e5d454e39c22d23dcb192a901a98107d111a75996a7735aff16/cond_rnn-1.4-py2.py3-none-any.whl\"\n",
            "  Caching due to etag\n",
            "  Added cond-rnn==1.4 from https://files.pythonhosted.org/packages/0f/f3/6dc58eca3e5d454e39c22d23dcb192a901a98107d111a75996a7735aff16/cond_rnn-1.4-py2.py3-none-any.whl#sha256=79a32e9f731392d93b5d9d7553768085edee802c5f36c5d6a23f5de31bb57f5b to build tracker '/tmp/pip-req-tracker-7ye1h7dw'\n",
            "  Removed cond-rnn==1.4 from https://files.pythonhosted.org/packages/0f/f3/6dc58eca3e5d454e39c22d23dcb192a901a98107d111a75996a7735aff16/cond_rnn-1.4-py2.py3-none-any.whl#sha256=79a32e9f731392d93b5d9d7553768085edee802c5f36c5d6a23f5de31bb57f5b from build tracker '/tmp/pip-req-tracker-7ye1h7dw'\n",
            "Installing collected packages: cond-rnn\n",
            "\n",
            "Successfully installed cond-rnn-1.4\n",
            "Cleaning up...\n",
            "Removed build tracker '/tmp/pip-req-tracker-7ye1h7dw'\n"
          ],
          "name": "stdout"
        }
      ]
    },
    {
      "cell_type": "code",
      "metadata": {
        "colab_type": "code",
        "id": "J_ycOxIXKsKk",
        "outputId": "78c4dfa4-969b-4488-89f4-f42543c4905b",
        "colab": {
          "base_uri": "https://localhost:8080/",
          "height": 0
        }
      },
      "source": [
        "import numpy as np\n",
        "import matplotlib.pyplot as plt\n",
        "import qiskit as qk\n",
        "import tensorflow.compat.v1 as tf\n",
        "import cond_rnn as crnn\n",
        "import re\n",
        "import os\n",
        "from google.colab import output\n",
        "tf.disable_v2_behavior()\n",
        "qs_backend = qk.Aer.get_backend('statevector_simulator')"
      ],
      "execution_count": 2,
      "outputs": [
        {
          "output_type": "stream",
          "text": [
            "WARNING:tensorflow:From /usr/local/lib/python3.6/dist-packages/tensorflow_core/python/compat/v2_compat.py:88: disable_resource_variables (from tensorflow.python.ops.variable_scope) is deprecated and will be removed in a future version.\n",
            "Instructions for updating:\n",
            "non-resource variables are not supported in the long term\n"
          ],
          "name": "stdout"
        }
      ]
    },
    {
      "cell_type": "markdown",
      "metadata": {
        "colab_type": "text",
        "id": "OG_UWsozhs3i"
      },
      "source": [
        "#### Circuit Functions"
      ]
    },
    {
      "cell_type": "code",
      "metadata": {
        "colab_type": "code",
        "id": "DPgC4Wa8Ky4K",
        "colab": {}
      },
      "source": [
        "def sample_circuits(n,size,amount):\n",
        "    \"\"\"Sample an amount of random n-qubit circuits with a certain size in\n",
        "    number of operations from the allowed set\"\"\"\n",
        "\n",
        "    circuits =[]\n",
        "    for _ in range(amount):\n",
        "        # Create circuit object of n qubits\n",
        "        circ = qk.QuantumCircuit(n)\n",
        "        # Generate random gates on random qubits from the universal set {H,S,CX}\n",
        "        for _ in range(size):\n",
        "            gate = np.random.randint(0,3)\n",
        "            target = np.random.randint(0,n)\n",
        "            if gate==0: # Hadamard\n",
        "                circ.h(target)\n",
        "            if gate==1: # S-gate\n",
        "                circ.s(target)\n",
        "            if gate==2: # CNOT\n",
        "                control = np.random.randint(0,n)\n",
        "                if control == target:\n",
        "                    circ.h(target)\n",
        "                else:\n",
        "                    circ.cx(control,target)\n",
        "        circuits.append(circ)\n",
        "    return circuits\n",
        "\n",
        "def encode_circuits(circuits,n,max_size,label=True):\n",
        "    \"\"\"Takes an array of n-qubit QuantumCircuit objects, and encodes them based on a\n",
        "    vocabulary of possible gates to apply, including tokens to signify the start\n",
        "    and end of sequences. Elements after EoS are padded to match maximum circuit\n",
        "    size using a special token.\n",
        "    Labels can be also be generated for the circuits.\"\n",
        "\n",
        "    Vocabulary scheme:\n",
        "    Padding = 0,\n",
        "    SoS = 1,\n",
        "    EoS = 2,\n",
        "    h[0]=3, h[1]=3+1...\n",
        "    s[0]=3+n, s[1]=3+n+1...\n",
        "    cx[0,0]=3+2n, cx[0,1]=3+2n+1...\n",
        "    cx[1,0]=3+(2+1)n, cx[1,1]=3+(2+1)n+1... etc. \"\"\"\n",
        "\n",
        "    encoded = []\n",
        "    for circ in circuits:\n",
        "        # Use the QASM format to convert the circuit to a string\n",
        "        lines = circ.qasm().splitlines()[3:]\n",
        "        size = len(lines)\n",
        "        # Initialize to padding tokens\n",
        "        encoded_circ = np.zeros(max_size+2)\n",
        "        # Add SoS and EoS tokens\n",
        "        encoded_circ[0] = 1\n",
        "        encoded_circ[size+1]=2\n",
        "        for i,line in enumerate(lines):\n",
        "            # Detect gate name and qubits involved\n",
        "            gate_str = line[:2]\n",
        "            integers = [int(s) for s in re.findall(r'-?\\d+\\.?\\d*',line)]\n",
        "            # Encode gates based on scheme above\n",
        "            if gate_str==\"h \":\n",
        "                encoded_circ[i+1]=int(3+integers[0])\n",
        "            if gate_str==\"s \":\n",
        "                encoded_circ[i+1]=int(3+n+integers[0])\n",
        "            if gate_str==\"cx\":\n",
        "                encoded_circ[i+1]=int(3+(2+integers[0])*n+integers[1])\n",
        "        encoded.append(encoded_circ)\n",
        "    encoded = np.array(encoded)\n",
        "    if label:\n",
        "        # Simulate labels for each circuit and attach to dataset\n",
        "        labels = generate_labels(circuits)\n",
        "        return np.concatenate((encoded,labels),axis=1)\n",
        "    else:\n",
        "        return np.array(encoded)\n",
        "\n",
        "def decode_circuit(encoded,n,debug=False):\n",
        "    \"\"\"Takes an encoded output from the network and generates the corresponding\n",
        "    circuit as described above.\"\"\"\n",
        "\n",
        "    # Start with opening syntax\n",
        "    decoded = \"OPENQASM 2.0;\\ninclude \\\"qelib1.inc\\\";\\nqreg q[\"+str(n)+\"];\\n\"\n",
        "    for line in encoded:\n",
        "        # decode each non-token element into its QASM string\n",
        "        line = int(np.around(line))\n",
        "        if debug: print(line)\n",
        "        if line > 2:\n",
        "            gate_num = int(np.ceil((line-2)/n))\n",
        "            if debug: print(gate_num)\n",
        "            if gate_num==1:\n",
        "                decoded += \"h q[\"+str(line-3)+\"];\\n\"\n",
        "            elif gate_num==2:\n",
        "                decoded += \"s q[\"+str(line-n-3)+\"];\\n\"\n",
        "            elif (str(gate_num-3)!=str(line-(gate_num-1)*n-3)):\n",
        "                decoded += \"cx q[\"+str(gate_num-3)+\"],q[\"+str(line-(gate_num-1)*n-3)+\"];\\n\"\n",
        "        if line == 2:\n",
        "            decoded = decoded[:-1]\n",
        "            break\n",
        "        if debug: print(decoded)\n",
        "    if debug:\n",
        "        print(decoded)\n",
        "    # Build circuit object from QASM string\n",
        "    return qk.QuantumCircuit.from_qasm_str(decoded)"
      ],
      "execution_count": 0,
      "outputs": []
    },
    {
      "cell_type": "markdown",
      "metadata": {
        "id": "lM8Z_gH3RERT",
        "colab_type": "text"
      },
      "source": [
        "#### Preparation\n"
      ]
    },
    {
      "cell_type": "markdown",
      "metadata": {
        "id": "Xt8pfInzSB_H",
        "colab_type": "text"
      },
      "source": [
        "##### Parameters"
      ]
    },
    {
      "cell_type": "code",
      "metadata": {
        "colab_type": "code",
        "id": "jufgi7NEbyNn",
        "colab": {}
      },
      "source": [
        "# Model Parameters\n",
        "N = 5 # size of qubit register\n",
        "MAX_LENGTH = 10 # maximum length of gate sequence\n",
        "VOCAB_DIM = 2+2*N+N**2 # amount of possible gates\n",
        "NUM_SAMPLES = 10000 # number of circuits in the database\n",
        "TRAINTEST = 0.75 # proportion of training data\n",
        "CUTOFF = int(NUM_SAMPLES//2)#(1/TRAINTEST))\n",
        "TIME_STEPS = MAX_LENGTH+2 # length of sequence including tokens\n",
        "INPUT_DIM = 1 # size of input element\n",
        "LABEL_DIM = 1 # size of label element\n",
        "COND_DIM = 2*(2**N) # length of condition state\n",
        "NUM_CELLS = 256 # number of cells in each RNN layer\n",
        "STACK_DEPTH = 5 # number of stacked RNN layers\n",
        "NUM_DENSE = 64 # size of dense classification layers\n",
        "CLASS_DEPTH = 5 # number of stacked classification layers\n",
        "LOSS_DELAY = 10 # number of epochs between each loss recording\n",
        "PRINT_DELAY = 10 # number of recordings between each loss printing\n",
        "SAVE_DELAY = 10000 # number of epochs between each model checkpoint\n",
        "\n",
        "# Training Parameters\n",
        "BATCH_SIZE = 64\n",
        "EPOCHS = 1000 # hard cutoff for training\n",
        "\n",
        "# Model Structure\n",
        "ONE_HOT = True\n",
        "INPUT_CONCATENATED = False\n",
        "\n",
        "# Correct input dimensions\n",
        "if ONE_HOT:\n",
        "    INPUT_DIM = VOCAB_DIM\n",
        "    LABEL_DIM = VOCAB_DIM\n",
        "\n",
        "if INPUT_CONCATENATED:\n",
        "    INPUT_DIM += COND_DIM"
      ],
      "execution_count": 0,
      "outputs": []
    },
    {
      "cell_type": "markdown",
      "metadata": {
        "id": "NxmKdIl-RnBO",
        "colab_type": "text"
      },
      "source": [
        "##### Generate Data (Option)"
      ]
    },
    {
      "cell_type": "code",
      "metadata": {
        "id": "FSZp3OeYRzEn",
        "colab_type": "code",
        "colab": {}
      },
      "source": [
        "# Generate Data\n",
        "# Data = encode_circuits(sample_circuits(N,MAX_LENGTH,NUM_SAMPLES),N,MAX_LENGTH,label=True)\n",
        "# Save Data\n",
        "# np.savetxt(f\"Encoded_Circuits_{str(N)}_{str(MAX_LENGTH)}_{str(NUM_SAMPLES)}.csv\", Data, delimiter=\",\")"
      ],
      "execution_count": 0,
      "outputs": []
    },
    {
      "cell_type": "markdown",
      "metadata": {
        "id": "GFWzZKD6Rtqo",
        "colab_type": "text"
      },
      "source": [
        "##### Load Data (Option)"
      ]
    },
    {
      "cell_type": "code",
      "metadata": {
        "id": "-cfmMroOR2a0",
        "colab_type": "code",
        "colab": {}
      },
      "source": [
        "# Load Data\n",
        "Data = np.loadtxt(f\"Encoded_Circuits_{str(N)}_{str(MAX_LENGTH)}_{str(NUM_SAMPLES)}.csv\", delimiter=\",\")"
      ],
      "execution_count": 0,
      "outputs": []
    },
    {
      "cell_type": "markdown",
      "metadata": {
        "id": "3O8U69reTU4X",
        "colab_type": "text"
      },
      "source": [
        "##### Data Preprocessing"
      ]
    },
    {
      "cell_type": "code",
      "metadata": {
        "colab_type": "code",
        "id": "8C-Q6inddm5o",
        "colab": {}
      },
      "source": [
        "# Shuffle dataset\n",
        "np.random.shuffle(Data)\n",
        "\n",
        "# Inputs\n",
        "X = Data[:,:TIME_STEPS]\n",
        "X = X.reshape((X.shape[0],X.shape[1],1))\n",
        "if ONE_HOT:\n",
        "    # Convert to One-Hot Encoding\n",
        "    eye = np.eye(VOCAB_DIM)\n",
        "    X = np.array([[eye[int(gate)] for gate in X[int(row),:]] for row in range(X.shape[0])])\n",
        "\n",
        "# Labels\n",
        "offset = X[:,1:]\n",
        "y = np.concatenate((offset,np.zeros((X.shape[0],1,LABEL_DIM))),axis=1)\n",
        "\n",
        "# Conditions\n",
        "c = Data[:,TIME_STEPS:]\n",
        "\n",
        "# Split\n",
        "X_train = X[:CUTOFF]\n",
        "X_test = X[CUTOFF:]\n",
        "c_test = c[:CUTOFF]\n",
        "c_train = c[CUTOFF:]\n",
        "y_train = y[:CUTOFF]\n",
        "y_test = y[CUTOFF:]\n",
        "\n",
        "if INPUT_CONCATENATED:\n",
        "    # Append conditions to inputs\n",
        "    c_train_dup = np.repeat(c_train[:, :, np.newaxis],TIME_STEPS,axis=2)\n",
        "    c_train_rot = np.rot90(c_train_dup,1,(1,2))\n",
        "    X_train = np.concatenate((X_train,c_train_rot),axis=2)\n",
        "\n",
        "    c_test_dup = np.repeat(c_test[:, :, np.newaxis],TIME_STEPS,axis=2)\n",
        "    c_test_rot = np.rot90(c_test_dup,1,(1,2))\n",
        "    X_test = np.concatenate((X_test,c_test_rot),axis=2)"
      ],
      "execution_count": 0,
      "outputs": []
    },
    {
      "cell_type": "markdown",
      "metadata": {
        "id": "q3cz7V7bUPvx",
        "colab_type": "text"
      },
      "source": [
        "#### Build Model"
      ]
    },
    {
      "cell_type": "code",
      "metadata": {
        "colab_type": "code",
        "id": "-6jX8x5_c7eA",
        "outputId": "738bd3d6-ce60-4c68-dc92-a3844fb52ce9",
        "colab": {
          "base_uri": "https://localhost:8080/",
          "height": 87
        }
      },
      "source": [
        "# Define Session\n",
        "sess = tf.Session()\n",
        "\n",
        "# Placeholders for variables\n",
        "inputs = tf.placeholder(name='inputs', dtype=tf.float32, shape=(None, TIME_STEPS, INPUT_DIM))\n",
        "targets = tf.placeholder(name='targets', dtype=tf.float32, shape=(None, TIME_STEPS, LABEL_DIM))\n",
        "if not INPUT_CONCATENATED:\n",
        "    # Condition variables for hidden-state model\n",
        "    cond = tf.placeholder(name='conditions', dtype=tf.float32, shape=(None, COND_DIM))\n",
        "\n",
        "# Conditional RNN\n",
        "if INPUT_CONCATENATED:\n",
        "    # Regular GRU\n",
        "    outputs = tf.keras.layers.GRU(NUM_CELLS, return_sequences=True)(inputs)\n",
        "    for _ in range(STACK_DEPTH-1):\n",
        "        outputs = tf.keras.layers.GRU(NUM_CELLS, return_sequences=True)(outputs)\n",
        "else:\n",
        "    # Conditional GRU\n",
        "    outputs = crnn.ConditionalRNN(NUM_CELLS, cell='GRU', cond=cond, dtype=tf.float32, return_sequences=True)(inputs)\n",
        "    for _ in range(STACK_DEPTH-1):\n",
        "        outputs = crnn.ConditionalRNN(NUM_CELLS, cell='GRU', cond=cond, dtype=tf.float32, return_sequences=True)(outputs)\n",
        "\n",
        "# Classification\n",
        "for _ in range(CLASS_DEPTH):\n",
        "    outputs = tf.keras.layers.TimeDistributed(tf.keras.layers.Dense(units=NUM_DENSE, activation='relu'))(outputs)\n",
        "outputs = tf.keras.layers.TimeDistributed(tf.keras.layers.Dense(units=LABEL_DIM, activation='relu'))(outputs)\n",
        "\n",
        "# Loss + Optimizer\n",
        "if ONE_HOT:\n",
        "    cost = tf.reduce_mean(tf.nn.softmax_cross_entropy_with_logits_v2(logits=outputs, labels=targets))\n",
        "else:\n",
        "    cost = tf.reduce_sum(tf.reduce_mean(tf.squared_difference(outputs, targets)))\n",
        "optimizer = tf.train.AdamOptimizer().minimize(cost)\n",
        "\n",
        "# Initialize variables (tensorflow)\n",
        "sess.run(tf.global_variables_initializer())\n",
        "\n",
        "# Define the binding between placeholders and real data.\n",
        "if INPUT_CONCATENATED:\n",
        "    train_feed_dict = {inputs: X_train, targets: y_train}\n",
        "    test_feed_dict = {inputs: X_test, targets: y_test}\n",
        "else:\n",
        "    train_feed_dict = {inputs: X_train, targets: y_train, cond: c_train}\n",
        "    test_feed_dict = {inputs: X_test, targets: y_test, cond: c_test}"
      ],
      "execution_count": 7,
      "outputs": [
        {
          "output_type": "stream",
          "text": [
            "WARNING:tensorflow:From /usr/local/lib/python3.6/dist-packages/tensorflow_core/python/ops/resource_variable_ops.py:1635: calling BaseResourceVariable.__init__ (from tensorflow.python.ops.resource_variable_ops) with constraint is deprecated and will be removed in a future version.\n",
            "Instructions for updating:\n",
            "If using Keras pass *_constraint arguments to layers.\n"
          ],
          "name": "stdout"
        }
      ]
    },
    {
      "cell_type": "markdown",
      "metadata": {
        "id": "EoAx4gw2T3k6",
        "colab_type": "text"
      },
      "source": [
        "#### Train"
      ]
    },
    {
      "cell_type": "code",
      "metadata": {
        "colab_type": "code",
        "id": "5v7CoDbby89K",
        "outputId": "e149d055-76b7-4bcd-8135-0e1e1d014cb0",
        "colab": {
          "base_uri": "https://localhost:8080/",
          "height": 185
        }
      },
      "source": [
        "# Main loop. Optimize then evaluate.\n",
        "saver = tf.train.Saver()\n",
        "train_losses = []\n",
        "test_losses = []\n",
        "for epoch in range(EPOCHS):\n",
        "    sess.run(optimizer, train_feed_dict)\n",
        "    if epoch % LOSS_DELAY == 0:\n",
        "        train_outputs, train_loss = sess.run([outputs, cost], train_feed_dict)\n",
        "        test_outputs, test_loss = sess.run([outputs, cost], test_feed_dict)\n",
        "        train_losses.append(train_loss)\n",
        "        test_losses.append(test_loss)\n",
        "    if epoch % (PRINT_DELAY*LOSS_DELAY) == 0:\n",
        "        print(f'[{str(epoch).zfill(4)}] train cost = {train_loss:.4f}, test cost = {test_loss:.4f}.')\n",
        "    if epoch % SAVE_DELAY == 0:\n",
        "        saver.save(sess, f'Checkpoints/QCG-{str(NUM_CELLS)}', global_step=int(epoch/SAVE_DELAY))"
      ],
      "execution_count": 8,
      "outputs": [
        {
          "output_type": "stream",
          "text": [
            "[0000] train cost = 3.3053, test cost = 3.3054.\n",
            "[0100] train cost = 2.7680, test cost = 2.7722.\n",
            "[0200] train cost = 2.7175, test cost = 2.7239.\n",
            "[0300] train cost = 2.7164, test cost = 2.7253.\n",
            "[0400] train cost = 3.1520, test cost = 3.1556.\n",
            "[0500] train cost = 3.0167, test cost = 3.0255.\n",
            "[0600] train cost = 3.0127, test cost = 3.0282.\n",
            "[0700] train cost = 3.0639, test cost = 3.0818.\n",
            "[0800] train cost = 3.0041, test cost = 3.0350.\n",
            "[0900] train cost = 2.9451, test cost = 3.0031.\n"
          ],
          "name": "stdout"
        }
      ]
    },
    {
      "cell_type": "markdown",
      "metadata": {
        "id": "6bG_jc0_UUId",
        "colab_type": "text"
      },
      "source": [
        "#### Analyze"
      ]
    },
    {
      "cell_type": "code",
      "metadata": {
        "colab_type": "code",
        "id": "ujtxMM5Anyyt",
        "outputId": "9e0587a3-1153-4f01-9cad-7d2c71bf933f",
        "colab": {
          "base_uri": "https://localhost:8080/",
          "height": 281
        }
      },
      "source": [
        "# Plot Losses\n",
        "epochs = np.arange(0,epoch,PRINT_DELAY)\n",
        "plt.title(\"Loss Over Epochs\")\n",
        "plt.plot(epochs,train_losses,c=\"blue\",label=\"Train Loss\")\n",
        "plt.plot(epochs,test_losses,c=\"orange\",label=\"Test Loss\")\n",
        "plt.legend()\n",
        "plt.show()"
      ],
      "execution_count": 9,
      "outputs": [
        {
          "output_type": "display_data",
          "data": {
            "image/png": "[encoded data removed]",
            "text/plain": [
              "<Figure size 432x288 with 1 Axes>"
            ]
          },
          "metadata": {
            "tags": []
          }
        }
      ]
    },
    {
      "cell_type": "code",
      "metadata": {
        "colab_type": "code",
        "id": "7loLgREMfba0",
        "outputId": "b3b5e0ba-1eda-407c-b437-86ae751efb18",
        "colab": {
          "base_uri": "https://localhost:8080/",
          "height": 67
        }
      },
      "source": [
        "# Forward pass examples\n",
        "test_examples, test_example_loss = sess.run([outputs, cost], test_feed_dict)\n",
        "train_examples, train_example_loss = sess.run([outputs, cost], train_feed_dict)\n",
        "\n",
        "if ONE_HOT:\n",
        "    # OHE to Vocab\n",
        "    ones_test = np.full((test_examples.shape[0],1),1)\n",
        "    ones_train = np.full((train_examples.shape[0],1),1)\n",
        "    ones_y_test = np.full((y_test.shape[0],1),1)\n",
        "    ones_y_train = np.full((y_train.shape[0],1),1)\n",
        "    vocab_test = np.argmax(np.around(test_examples),2)[:,:-1]\n",
        "    vocab_train = np.argmax(np.around(train_examples),2)[:,:-1]\n",
        "    vocab_y_test = np.argmax(np.around(y_test),2)[:,:-1]\n",
        "    vocab_y_train = np.argmax(np.around(y_train),2)[:,:-1]\n",
        "    test_examples = np.concatenate((ones_test,vocab_test),1)\n",
        "    train_examples = np.concatenate((ones_train,vocab_train),1)\n",
        "    test_y_examples = np.concatenate((ones_y_test,vocab_y_test),1)\n",
        "    train_y_examples = np.concatenate((ones_y_train,vocab_y_train),1)\n",
        "else:\n",
        "    test_y_examples =  np.copy(y_test)\n",
        "    train_y_examples = np.copy(y_train)\n",
        "\n",
        "# Decode examples and simulate\n",
        "decoded_test = []\n",
        "decoded_train = []\n",
        "for i in range(train_examples.shape[0]):\n",
        "    if i<=test_examples.shape[0]:\n",
        "        encoded_test = np.concatenate((np.array([1]),test_examples[i].flatten()[:-2],np.array([2])))\n",
        "        decoded_test.append(decode_circuit(encoded_test,N))\n",
        "    encoded_train = np.concatenate((np.array([1]),train_examples[i].flatten()[:-2],np.array([2])))\n",
        "    decoded_train.append(decode_circuit(encoded_train,N))\n",
        "test_labels = generate_labels(decoded_test)\n",
        "train_labels = generate_labels(decoded_train)\n",
        "\n",
        "# Compute Metrics\n",
        "test_sequence_loss=np.mean(np.mean(test_examples!=test_y_examples,axis=1))\n",
        "test_target_loss=np.mean(np.mean((c_test-test_labels)**2,axis=1))\n",
        "train_sequence_loss=np.mean(np.mean( train_examples!=train_y_examples,axis=1))\n",
        "train_target_loss=np.mean(np.mean((c_train-train_labels)**2,axis=1))\n",
        "\n",
        "# Print\n",
        "print(\"Sequence Loss (test/train):\",test_sequence_loss,\"/\",train_sequence_loss)\n",
        "print(\"Target Loss   (test/train):\",test_target_loss,\"/\",train_target_loss)\n",
        "print(\"RNN Loss      (test/train):\",test_example_loss,\"/\",train_example_loss)"
      ],
      "execution_count": 10,
      "outputs": [
        {
          "output_type": "stream",
          "text": [
            "Sequence Loss (test/train): 0.8488666666666667 / 0.8368833333333334\n",
            "Target Loss   (test/train): 0.01822529111875 / 0.018000755643749998\n",
            "RNN Loss      (test/train): 3.012438 / 2.93093\n"
          ],
          "name": "stdout"
        }
      ]
    },
    {
      "cell_type": "code",
      "metadata": {
        "id": "PuD-9uOTflzR",
        "colab_type": "code",
        "colab": {
          "base_uri": "https://localhost:8080/",
          "height": 470
        },
        "outputId": "899b0ff8-3ccb-4652-b518-c121917e9c1e"
      },
      "source": [
        "# Demonstrate example\n",
        "i=np.random.randint(test_examples.shape[0])\n",
        "print(np.around(test_examples[i]).T)\n",
        "print(test_y_examples[i].T)\n",
        "print(test_labels[i])\n",
        "print(c_test[i])\n",
        "decoded_test[i].draw()\n",
        "\n",
        "# Draw histogram of predicted gates\n",
        "# plt.hist(np.around(test_examples.flatten()))"
      ],
      "execution_count": 41,
      "outputs": [
        {
          "output_type": "stream",
          "text": [
            "[1 6 6 3 3 3 3 3 3 3 3 0]\n",
            "[ 1  9  3 10 11  7  3  9 22  3  6  2]\n",
            "[ 0.707  0.707  0.     0.     0.     0.     0.     0.     0.     0.\n",
            "  0.     0.     0.     0.     0.     0.     0.     0.     0.     0.\n",
            "  0.     0.     0.     0.     0.     0.     0.     0.     0.     0.\n",
            "  0.     0.    -0.    -0.     0.     0.     0.     0.     0.     0.\n",
            "  0.     0.     0.     0.     0.     0.     0.     0.     0.     0.\n",
            "  0.     0.     0.     0.     0.     0.     0.     0.     0.     0.\n",
            "  0.     0.     0.     0.   ]\n",
            "[ 0.354  0.     0.     0.     0.     0.     0.     0.     0.     0.\n",
            "  0.     0.    -0.354  0.     0.     0.     0.     0.     0.     0.\n",
            " -0.354  0.     0.     0.    -0.354  0.     0.     0.    -0.     0.\n",
            "  0.     0.    -0.     0.     0.     0.     0.354  0.     0.     0.\n",
            "  0.354  0.     0.     0.     0.     0.     0.     0.     0.354  0.\n",
            "  0.     0.     0.     0.     0.     0.     0.     0.     0.     0.\n",
            " -0.354  0.     0.     0.   ]\n"
          ],
          "name": "stdout"
        },
        {
          "output_type": "execute_result",
          "data": {
            "text/html": [
              "<pre style=\"word-wrap: normal;white-space: pre;background: #fff0;line-height: 1.1;font-family: &quot;Courier New&quot;,Courier,monospace\">        ┌───┐┌───┐┌───┐┌───┐┌───┐┌───┐┌───┐\n",
              "q_0: |0>┤ H ├┤ H ├┤ H ├┤ H ├┤ H ├┤ H ├┤ H ├\n",
              "        └───┘└───┘└───┘└───┘└───┘└───┘└───┘\n",
              "q_1: |0>───────────────────────────────────\n",
              "                                           \n",
              "q_2: |0>───────────────────────────────────\n",
              "        ┌───┐┌───┐                         \n",
              "q_3: |0>┤ H ├┤ H ├─────────────────────────\n",
              "        └───┘└───┘                         \n",
              "q_4: |0>───────────────────────────────────\n",
              "                                           </pre>"
            ],
            "text/plain": [
              "        ┌───┐┌───┐┌───┐┌───┐┌───┐┌───┐┌───┐\n",
              "q_0: |0>┤ H ├┤ H ├┤ H ├┤ H ├┤ H ├┤ H ├┤ H ├\n",
              "        └───┘└───┘└───┘└───┘└───┘└───┘└───┘\n",
              "q_1: |0>───────────────────────────────────\n",
              "                                           \n",
              "q_2: |0>───────────────────────────────────\n",
              "        ┌───┐┌───┐                         \n",
              "q_3: |0>┤ H ├┤ H ├─────────────────────────\n",
              "        └───┘└───┘                         \n",
              "q_4: |0>───────────────────────────────────\n",
              "                                           "
            ]
          },
          "metadata": {
            "tags": []
          },
          "execution_count": 41
        }
      ]
    },
    {
      "cell_type": "markdown",
      "metadata": {
        "id": "XN4UsW4gC3A-",
        "colab_type": "text"
      },
      "source": [
        "##### Audio Notification of Completion (Option)"
      ]
    },
    {
      "cell_type": "code",
      "metadata": {
        "id": "unSzufs_gPGm",
        "colab_type": "code",
        "colab": {}
      },
      "source": [
        "output.eval_js('new Audio(\"https://upload.wikimedia.org/wikipedia/commons/0/05/Beep-09.ogg\").play()')"
      ],
      "execution_count": 0,
      "outputs": []
    },
    {
      "cell_type": "markdown",
      "metadata": {
        "id": "pu2qFSNyEEbC",
        "colab_type": "text"
      },
      "source": [
        "#### _Yoav Rabinovich, March 2020_\n",
        "\n",
        "--------------------------------"
      ]
    }
  ]
}